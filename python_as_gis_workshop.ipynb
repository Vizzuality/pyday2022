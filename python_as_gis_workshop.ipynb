{
 "cells": [
  {
   "cell_type": "markdown",
   "id": "ecd9642d-6843-4591-a33f-bac073efd676",
   "metadata": {},
   "source": [
    "# Outline\n",
    "\n",
    "- GIS data types\n",
    "     - Raster\n",
    "     - Vector\n",
    "- Working with raster with rasterio and Xarray\n",
    "- Working with vector with geopandas\n",
    "- Interactive visualization with different solutions\n",
    "- Speeding things up with dask\n",
    "- Obtaining remote sensing data\n",
    "    - Practical example: Download data from  \n",
    "- Working with huge datasets with `cog_worker`"
   ]
  },
  {
   "cell_type": "code",
   "execution_count": null,
   "id": "54532ca0-6066-4d76-962e-3043c3edffb3",
   "metadata": {},
   "outputs": [],
   "source": []
  }
 ],
 "metadata": {
  "kernelspec": {
   "display_name": "Python 3 (ipykernel)",
   "language": "python",
   "name": "python3"
  },
  "language_info": {
   "codemirror_mode": {
    "name": "ipython",
    "version": 3
   },
   "file_extension": ".py",
   "mimetype": "text/x-python",
   "name": "python",
   "nbconvert_exporter": "python",
   "pygments_lexer": "ipython3",
   "version": "3.10.5"
  }
 },
 "nbformat": 4,
 "nbformat_minor": 5
}
