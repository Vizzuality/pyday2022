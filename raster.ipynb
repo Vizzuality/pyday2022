{
 "cells": [
  {
   "cell_type": "markdown",
   "id": "edca8ad8-933b-4f4d-ae4b-7bfaeeb52c51",
   "metadata": {},
   "source": [
    "# Raster data\n",
    "\n",
    "## Some basic principles\n",
    "\n",
    "> a raster graphic represents a two-dimensional picture as a rectangular matrix or grid of ~square pixels~\n",
    "<div>\n",
    "<img src=\"images/simple_raster.png\" width=\"500\"/>\n",
    "</div>\n",
    "\n",
    "source: [wikipedia](https://en.wikipedia.org/wiki/Raster_graphics#Image_storage)\n"
   ]
  },
  {
   "cell_type": "code",
   "execution_count": 1,
   "id": "f0ccc4b6-af24-43ba-9daa-2c12e983f47f",
   "metadata": {},
   "outputs": [],
   "source": [
    "import matplotlib.pyplot as plt\n",
    "import numpy as np"
   ]
  },
  {
   "cell_type": "code",
   "execution_count": 2,
   "id": "9eaba88d-248d-4e0b-9620-206b10f1f044",
   "metadata": {},
   "outputs": [
    {
     "data": {
      "text/plain": [
       "<matplotlib.image.AxesImage at 0x7f52d54a2b00>"
      ]
     },
     "execution_count": 2,
     "metadata": {},
     "output_type": "execute_result"
    },
    {
     "data": {
      "image/png": "[encoded data removed]",
      "text/plain": [
       "<Figure size 640x480 with 1 Axes>"
      ]
     },
     "metadata": {},
     "output_type": "display_data"
    }
   ],
   "source": [
    "raster = np.random.rand(20, 20)\n",
    "plt.imshow(raster, cmap=\"gray\")"
   ]
  },
  {
   "cell_type": "markdown",
   "id": "a967211e-ec35-4c45-ba69-2543934d8a7a",
   "metadata": {},
   "source": [
    "A simplistic representation of an image is just an array of shape `x, y, 3` where the last axis represents the red, green and blue chanels."
   ]
  },
  {
   "cell_type": "code",
   "execution_count": 3,
   "id": "591728c7-3a21-4b00-a1eb-166a7b3ba795",
   "metadata": {},
   "outputs": [
    {
     "data": {
      "text/plain": [
       "<matplotlib.image.AxesImage at 0x7f52cd3dd5d0>"
      ]
     },
     "execution_count": 3,
     "metadata": {},
     "output_type": "execute_result"
    },
    {
     "data": {
      "image/png": "[encoded data removed]",
      "text/plain": [
       "<Figure size 640x480 with 1 Axes>"
      ]
     },
     "metadata": {},
     "output_type": "display_data"
    }
   ],
   "source": [
    "image = np.random.rand(5, 5, 3)\n",
    "plt.imshow(image)"
   ]
  },
  {
   "cell_type": "code",
   "execution_count": 4,
   "id": "195fd7d0-30ba-479f-8775-c4531384095e",
   "metadata": {},
   "outputs": [
    {
     "data": {
      "text/plain": [
       "<matplotlib.image.AxesImage at 0x7f52cd420730>"
      ]
     },
     "execution_count": 4,
     "metadata": {},
     "output_type": "execute_result"
    },
    {
     "data": {
      "image/png": "[encoded data removed]",
      "text/plain": [
       "<Figure size 640x480 with 3 Axes>"
      ]
     },
     "metadata": {},
     "output_type": "display_data"
    }
   ],
   "source": [
    "_, axs = plt.subplots(1, 3)\n",
    "axs[0].imshow(image[:, :, 0], cmap=\"Reds\")\n",
    "axs[1].imshow(image[:, :, 1], cmap=\"Greens\")\n",
    "axs[2].imshow(image[:, :, 2], cmap=\"Blues\")"
   ]
  },
  {
   "cell_type": "code",
   "execution_count": 5,
   "id": "3f4e2dee-7205-46f9-baa6-2727af17e006",
   "metadata": {},
   "outputs": [],
   "source": [
    "plt.imsave(\"example.png\", image)"
   ]
  },
  {
   "cell_type": "markdown",
   "id": "30486de0-17d8-4725-a44a-f352ed315bc9",
   "metadata": {},
   "source": [
    "## But...  maps?\n",
    "\n",
    "Rasters can be _georeferenced_ to represent data on earth surface. \n",
    "\n",
    "In order to make it work we need to know\n",
    "- where the raster is on earth\n",
    "- the size of the pixels\n",
    "- which reference system we are using: the Coordinate Reference System (CRS)\n",
    "\n",
    "All this adds new metadata to our simple image format.\n",
    "\n",
    "Here is where we will take advantage of libraries like [Rasterio](https://rasterio.readthedocs.io/en/latest/index.html).\n",
    "\n",
    "Let's try to convert our image to fully privileged geospatial raster"
   ]
  },
  {
   "cell_type": "code",
   "execution_count": 6,
   "id": "693de50e-7352-416b-9c4f-c97b8ec1085c",
   "metadata": {},
   "outputs": [],
   "source": [
    "import rasterio as rio\n",
    "from rasterio.transform import Affine\n",
    "\n",
    "# we are going to use a lat long projection so units must be in degrees\n",
    "crs = \"+proj=latlong\"\n",
    "# crs can also be defined using the espg code\n",
    "crs = \"epsg:4326\"\n",
    "\n",
    "# note it is negative! we are defining things from the upper left corner.\n",
    "xres, yres = 0.005, -0.005\n",
    "\n",
    "transform = Affine.translation(2.944591, 39.445561) * Affine.scale(xres, yres)\n",
    "\n",
    "with rio.open(\n",
    "    \"raster.tiff\",\n",
    "    mode=\"w\",\n",
    "    height=image.shape[0],\n",
    "    width=image.shape[1],\n",
    "    count=3,  # number of band\n",
    "    dtype=image.dtype,\n",
    "    crs=\"+proj=latlong\",\n",
    "    transform=transform,\n",
    ") as new_raster:\n",
    "\n",
    "    # rasterio wants the axis in the order bands, cols, rows.\n",
    "    new_raster.write(np.moveaxis(image, [0, 1, 2], [2, 1, 0]))"
   ]
  },
  {
   "cell_type": "markdown",
   "id": "5d913e40-9a4b-43d7-a4c5-e68d88a8d0ff",
   "metadata": {},
   "source": [
    "\\- wowowo hold your horses, what is this affine, why multiply !?\n",
    "\n",
    "\\- It is just a way to define the upper left origin of our raster and the pixel size! it's super simple, you just needs to use a little bit of **linear algebra**\n",
    "\n",
    "\\* _leaves_\n"
   ]
  },
  {
   "cell_type": "code",
   "execution_count": 7,
   "id": "72321819-1a06-4b67-98b9-2d62df661ea5",
   "metadata": {},
   "outputs": [
    {
     "name": "stdout",
     "output_type": "stream",
     "text": [
      "| 0.01, 0.00, 2.94|\n",
      "| 0.00,-0.01, 39.45|\n",
      "| 0.00, 0.00, 1.00|\n"
     ]
    }
   ],
   "source": [
    "print(transform)"
   ]
  },
  {
   "cell_type": "markdown",
   "id": "fa65d53f-a364-4e5c-b487-160f16ec0669",
   "metadata": {},
   "source": [
    "\\* Disclaimer: Sorry to all the people who knows linear algebra. I'm trying to do my best and be short\n",
    "\n",
    "The `transform` variable is an `Affine`  object that represents an affine transformation like:\n",
    "\n",
    "\n",
    "$$\n",
    "\\begin{vmatrix}\n",
    "    x' \\\\\n",
    "    y' \\\\\n",
    "    1\n",
    "\\end{vmatrix}\n",
    "= \n",
    "\\begin{vmatrix}\n",
    "    a & b & c \\\\\n",
    "    d & e & f \\\\\n",
    "    0 & 0 & 1\n",
    "\\end{vmatrix}\n",
    "\\ \n",
    "\\begin{vmatrix}\n",
    "    x \\\\\n",
    "    y \\\\\n",
    "    1\n",
    "\\end{vmatrix}\n",
    "$$\n",
    "\n",
    "Here with the matrix $\\begin{vmatrix} a & b & c \\\\ d & e & f \\\\ 0 & 0 & 1\\end{vmatrix}$ we transform the image coordinates $x, y$ to world coordinates $x', y'$\n",
    "\n",
    "It is quite interesnting how this works but we don't have time. Look into [this](https://pygis.io/docs/d_affine.html) for a slightly deeper explaination or this [videos](https://www.youtube.com/watch?v=fNk_zzaMoSs&list=PLZHQObOWTQDPD3MizzM2xVFitgF8hE_ab) if you want to get a full intuition on what is going on.\n",
    "\n",
    "In our application most of the time we will only need `translate` (move the points) and to `scale`\n",
    "\n",
    "so in the line \n",
    "```python\n",
    "transform = Affine.translation(2.944591, 39.445561) * Affine.scale(xres, yres)\n",
    "```\n",
    "we are saying that our 0,0 pixel (in image coordinates, upper left corner) is at  39.445561°N 2.944591°E and the pixels measure 0.005° each side.\n",
    "\n",
    "_**NOTE** that the units are in degrees because we are using a coordinate reference system that is in degrees!_\n",
    "\n",
    "So the interesnting bits of our transform matrix are:\n",
    "\n",
    "$$\n",
    "\\begin{vmatrix}\n",
    "    x_{size} & \\cdot & x_0 \\\\\n",
    "    \\cdot & y_{size} & y_0 \\\\\n",
    "    \\cdot & \\cdot & \\cdot\n",
    "\\end{vmatrix}\n",
    "$$\n",
    "\n",
    "this is why the affine object looks like:\n",
    "\n",
    "```\n",
    "| 0.005,     0,  2.94|\n",
    "|     0,-0.005, 39.45|\n",
    "|     0,     0,     1|\n",
    "```"
   ]
  },
  {
   "cell_type": "code",
   "execution_count": 8,
   "id": "827911b0-38a5-4631-ac7d-3a3d76bb69a5",
   "metadata": {},
   "outputs": [
    {
     "data": {
      "text/plain": [
       "array([11.,  9.,  1.])"
      ]
     },
     "execution_count": 8,
     "metadata": {},
     "output_type": "execute_result"
    }
   ],
   "source": [
    "np.asarray(Affine.translation(10, 10) * Affine.scale(1, -1)).reshape(3,3) @ [1, 1, 1]"
   ]
  },
  {
   "cell_type": "markdown",
   "id": "70ddf3fd-a21c-470a-8826-35d54b9b22ff",
   "metadata": {},
   "source": [
    "### Reprojecting\n",
    "\n",
    "Now let's reproject a raster from one CRS to another"
   ]
  },
  {
   "cell_type": "code",
   "execution_count": null,
   "id": "ea8f3d70-3a6d-444b-a313-1af8ca635f1b",
   "metadata": {},
   "outputs": [],
   "source": []
  }
 ],
 "metadata": {
  "kernelspec": {
   "display_name": "Python 3 (ipykernel)",
   "language": "python",
   "name": "python3"
  },
  "language_info": {
   "codemirror_mode": {
    "name": "ipython",
    "version": 3
   },
   "file_extension": ".py",
   "mimetype": "text/x-python",
   "name": "python",
   "nbconvert_exporter": "python",
   "pygments_lexer": "ipython3",
   "version": "3.10.8"
  }
 },
 "nbformat": 4,
 "nbformat_minor": 5
}
