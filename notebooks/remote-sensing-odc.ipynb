{
 "cells": [
  {
   "cell_type": "code",
   "execution_count": null,
   "id": "8608ee81-b84d-489d-8589-fc25c0ba93f3",
   "metadata": {},
   "outputs": [],
   "source": [
    "import branca\n",
    "import dask.distributed\n",
    "import folium\n",
    "import folium.plugins\n",
    "import geopandas as gpd\n",
    "import numpy as np\n",
    "import rasterio as rio\n",
    "import rasterio.features\n",
    "import shapely.geometry\n",
    "import xrspatial.multispectral as ms\n",
    "from branca.element import Element, Figure\n",
    "from IPython.display import HTML, display\n",
    "from odc.stac import configure_rio, stac_load\n",
    "from pystac_client import Client\n",
    "\n",
    "from utils import convert_bounds, image_on_map"
   ]
  },
  {
   "cell_type": "code",
   "execution_count": null,
   "id": "461a6023-257a-4787-b378-cf88e3d0e709",
   "metadata": {},
   "outputs": [],
   "source": [
    "# stack configuration\n",
    "cfg = {\n",
    "    \"sentinel-s2-l2a-cogs\": {\n",
    "        \"assets\": {\n",
    "            \"*\": {\"data_type\": \"uint16\", \"nodata\": 0},\n",
    "            \"SCL\": {\"data_type\": \"uint8\", \"nodata\": 0},\n",
    "            \"visual\": {\"data_type\": \"uint8\", \"nodata\": 0},\n",
    "        },\n",
    "        \"aliases\": {\"red\": \"B04\", \"green\": \"B03\", \"blue\": \"B02\"},\n",
    "    },\n",
    "    \"*\": {\"warnings\": \"ignore\"},\n",
    "}"
   ]
  },
  {
   "cell_type": "code",
   "execution_count": null,
   "id": "f9485798-07fd-4984-b2c7-eb741478f850",
   "metadata": {
    "tags": []
   },
   "outputs": [],
   "source": [
    "# start the dask cluster\n",
    "client = dask.distributed.Client()\n",
    "configure_rio(cloud_defaults=True, aws={\"aws_unsigned\": True}, client=client)\n",
    "client"
   ]
  },
  {
   "cell_type": "markdown",
   "id": "1e1937ed-40b9-4721-828a-d843e56f449b",
   "metadata": {},
   "source": [
    "# Select a bounding box for your query\n",
    "Use the rectangle tool and then click on it to get the recatngle json"
   ]
  },
  {
   "cell_type": "code",
   "execution_count": null,
   "id": "ecbe1d36-bca2-4b3d-8205-6844edce6f9e",
   "metadata": {
    "tags": []
   },
   "outputs": [],
   "source": [
    "fig = branca.element.Figure(width=\"600px\", height=\"600px\")\n",
    "m = folium.Map()\n",
    "fig.add_child(m)\n",
    "draw = folium.plugins.Draw(\n",
    "    position=\"topleft\",\n",
    "    draw_options={\"polyline\": {\"allowIntersection\": False}},\n",
    "    edit_options={\"poly\": {\"allowIntersection\": False}},\n",
    ").add_to(m)\n",
    "fig"
   ]
  },
  {
   "cell_type": "code",
   "execution_count": null,
   "id": "23a12847-dde9-43d9-9719-2ba5674626ab",
   "metadata": {},
   "outputs": [],
   "source": [
    "# paste here the bbox json\n",
    "aoi = {\n",
    "    \"type\": \"Polygon\",\n",
    "    \"coordinates\": [\n",
    "        [\n",
    "            [-61.259766, -64.54844],\n",
    "            [-61.259766, -61.648162],\n",
    "            [-53.085938, -61.648162],\n",
    "            [-53.085938, -64.54844],\n",
    "            [-61.259766, -64.54844],\n",
    "        ]\n",
    "    ],\n",
    "}\n",
    "bbox = rasterio.features.bounds(aoi)"
   ]
  },
  {
   "cell_type": "code",
   "execution_count": null,
   "id": "943f59b8-740c-44cf-8a33-4daf2b34121c",
   "metadata": {},
   "outputs": [],
   "source": [
    "catalog = Client.open(\"https://earth-search.aws.element84.com/v0\")\n",
    "\n",
    "query = catalog.search(\n",
    "    collections=[\"sentinel-s2-l2a-cogs\"],\n",
    "    datetime=\"2022-5-1/2022-9-21\",  # from / to\n",
    "    limit=100,\n",
    "    bbox=bbox,\n",
    "    query={\"eo:cloud_cover\": {\"lt\": 0.1}},\n",
    ")\n",
    "\n",
    "items = list(query.get_items())\n",
    "print(f\"Found: {len(items)} datasets\")\n",
    "\n",
    "# Convert STAC items into a GeoJSON FeatureCollection\n",
    "stac_json = query.get_all_items_as_dict()"
   ]
  },
  {
   "cell_type": "markdown",
   "id": "626bf21a-3be2-4169-bfc8-31cb06834dc0",
   "metadata": {},
   "source": [
    "Show on a map the foodprints of the found datasets "
   ]
  },
  {
   "cell_type": "code",
   "execution_count": null,
   "id": "5b4dba49-d0c3-47ad-b4e3-53cc619c9426",
   "metadata": {
    "tags": []
   },
   "outputs": [],
   "source": [
    "# https://github.com/python-visualization/folium/issues/1501\n",
    "gdf = gpd.GeoDataFrame.from_features(stac_json, \"epsg:4326\")\n",
    "\n",
    "# Compute granule id from components\n",
    "gdf[\"granule\"] = (\n",
    "    gdf[\"sentinel:utm_zone\"].apply(lambda x: f\"{x:02d}\")\n",
    "    + gdf[\"sentinel:latitude_band\"]\n",
    "    + gdf[\"sentinel:grid_square\"]\n",
    ")\n",
    "\n",
    "fig = Figure(width=\"600px\", height=\"600px\")\n",
    "map1 = folium.Map()\n",
    "fig.add_child(map1)\n",
    "\n",
    "folium.GeoJson(\n",
    "    shapely.geometry.box(*bbox),\n",
    "    style_function=lambda x: dict(fill=False, weight=1, opacity=0.7, color=\"olive\"),\n",
    "    name=\"Query\",\n",
    ").add_to(map1)\n",
    "\n",
    "gdf.explore(\n",
    "    \"granule\",\n",
    "    categorical=True,\n",
    "    tooltip=[\n",
    "        \"granule\",\n",
    "        \"datetime\",\n",
    "        \"sentinel:data_coverage\",\n",
    "        \"eo:cloud_cover\",\n",
    "    ],\n",
    "    popup=True,\n",
    "    style_kwds=dict(fillOpacity=0.1, width=2),\n",
    "    name=\"STAC\",\n",
    "    m=map1,\n",
    ")\n",
    "\n",
    "map1.fit_bounds(bounds=convert_bounds(gdf.unary_union.bounds))\n",
    "folium.LayerControl().add_to(map1)\n",
    "\n",
    "display(fig)"
   ]
  },
  {
   "cell_type": "code",
   "execution_count": null,
   "id": "327de989-a95b-4732-bd47-446f814451d5",
   "metadata": {},
   "outputs": [],
   "source": [
    "it = [i for i in items if \"20EPQ\" in i.id]"
   ]
  },
  {
   "cell_type": "code",
   "execution_count": null,
   "id": "702f966e-6841-4588-a064-4676a0335525",
   "metadata": {},
   "outputs": [],
   "source": [
    "it[1]"
   ]
  },
  {
   "cell_type": "code",
   "execution_count": null,
   "id": "188cfb71-bcde-4ddb-8939-c2b0e343646b",
   "metadata": {},
   "outputs": [],
   "source": [
    "scene = stac_load(\n",
    "    [it[1]],\n",
    "    bands=[\"B04\", \"B03\", \"B02\"],\n",
    "    crs=\"epsg:3857\",\n",
    "    resolution=50,\n",
    "    chunks={}\n",
    ")"
   ]
  },
  {
   "cell_type": "code",
   "execution_count": null,
   "id": "8d517184-3d79-4163-a359-4ec043453626",
   "metadata": {},
   "outputs": [],
   "source": [
    "scene = scene.where(lambda x: x > 0, other=np.nan).to_array(\"band\").squeeze(\"time\").chunk(\"auto\")"
   ]
  },
  {
   "cell_type": "code",
   "execution_count": null,
   "id": "3a618ce1-8139-4253-95b9-428298ae15ee",
   "metadata": {},
   "outputs": [],
   "source": [
    "scene"
   ]
  },
  {
   "cell_type": "code",
   "execution_count": null,
   "id": "8bedb501-cd70-4f53-8413-e8d675c98d1f",
   "metadata": {},
   "outputs": [],
   "source": [
    "image_on_map(ms.true_color(*scene).compute(), bbox)"
   ]
  },
  {
   "cell_type": "code",
   "execution_count": null,
   "id": "8bba2872-de86-4ae2-94e8-0ea9ecc0fd36",
   "metadata": {
    "tags": []
   },
   "outputs": [],
   "source": [
    "# Since we will plot it on a map we need to use `EPSG:3857` projection\n",
    "crs = \"epsg:3857\"\n",
    "\n",
    "data = stac_load(\n",
    "    items,\n",
    "    bands=[\"B04\", \"B03\", \"B02\"],\n",
    "    crs=crs,\n",
    "    resolution=10,\n",
    "    chunks={},  # <-- use Dask\n",
    "    # stac_cfg=cfg,\n",
    "    # bbox=bbox,\n",
    ")\n",
    "\n",
    "data"
   ]
  },
  {
   "cell_type": "code",
   "execution_count": null,
   "id": "f4e8970a-380a-4d02-a347-787e67a2f2e0",
   "metadata": {
    "tags": []
   },
   "outputs": [],
   "source": [
    "data = (\n",
    "    data.where(lambda x: x > 0, other=np.nan).to_array(\"band\").chunk(\"auto\")\n",
    ")  # sentinel-2 uses 0 as nodata\n",
    "data"
   ]
  },
  {
   "cell_type": "markdown",
   "id": "19a88b45-6388-4c9c-86d1-426260a26a23",
   "metadata": {},
   "source": [
    "Inspect one of the scenes on the map"
   ]
  },
  {
   "cell_type": "code",
   "execution_count": null,
   "id": "f0f3a9b5-8c4b-47d6-9878-e05a16dcaea8",
   "metadata": {},
   "outputs": [],
   "source": [
    "# use ms.true_color to convert RGB chanels and improve the color\n",
    "selection = data.isel(time=1)"
   ]
  },
  {
   "cell_type": "code",
   "execution_count": null,
   "id": "128f6382-36c4-45f6-ad9f-ea94ee2dc8a0",
   "metadata": {},
   "outputs": [],
   "source": [
    "selection"
   ]
  },
  {
   "cell_type": "code",
   "execution_count": null,
   "id": "0a944fd8-2362-452a-9810-9b1ab86778a9",
   "metadata": {},
   "outputs": [],
   "source": [
    "image_on_map(ms.true_color(*selection).compute(), bbox)\n",
    "m"
   ]
  },
  {
   "cell_type": "code",
   "execution_count": null,
   "id": "75e8840c-3a27-4ed6-a125-e81ef4de3ed2",
   "metadata": {},
   "outputs": [],
   "source": [
    "ms.true_color(*selection).plot.imshow()"
   ]
  },
  {
   "cell_type": "markdown",
   "id": "9f79b458-78c2-4286-830a-58a0cd85c8a4",
   "metadata": {},
   "source": [
    "Compute the cloudless mossaic by taking the median of each pixel across time"
   ]
  },
  {
   "cell_type": "code",
   "execution_count": null,
   "id": "49b32d51-667d-4027-ae5b-7254848df261",
   "metadata": {},
   "outputs": [],
   "source": [
    "%%time\n",
    "median = data.median(dim=\"time\").compute()"
   ]
  },
  {
   "cell_type": "code",
   "execution_count": null,
   "id": "1398cc0a-5f7d-4a90-a6be-c40039238b71",
   "metadata": {},
   "outputs": [],
   "source": [
    "image = ms.true_color(*median)  # expects red, green, blue DataArrays"
   ]
  },
  {
   "cell_type": "code",
   "execution_count": null,
   "id": "5502682a-6de0-49a4-a35d-d4e142811883",
   "metadata": {
    "tags": []
   },
   "outputs": [],
   "source": [
    "import matplotlib.pyplot as plt\n",
    "\n",
    "fig, ax = plt.subplots(figsize=(12, 12))\n",
    "\n",
    "ax.set_axis_off()\n",
    "image.plot.imshow(ax=ax);"
   ]
  },
  {
   "cell_type": "code",
   "execution_count": null,
   "id": "39549563-c541-422d-844d-83bb91e75cd0",
   "metadata": {},
   "outputs": [],
   "source": [
    "fig = Figure(width=\"600px\", height=\"600px\")\n",
    "m = folium.Map()\n",
    "fig.add_child(m)\n",
    "image.odc.add_to(m)\n",
    "\n",
    "m.fit_bounds(bounds=convert_bounds(gdf.unary_union.bounds))\n",
    "folium.LayerControl().add_to(m)\n",
    "m"
   ]
  },
  {
   "cell_type": "code",
   "execution_count": null,
   "id": "aa0de8fd-bfcf-4967-8a1b-9cb5cb6041ee",
   "metadata": {},
   "outputs": [],
   "source": []
  }
 ],
 "metadata": {
  "kernelspec": {
   "display_name": "Python 3 (ipykernel)",
   "language": "python",
   "name": "python3"
  },
  "language_info": {
   "codemirror_mode": {
    "name": "ipython",
    "version": 3
   },
   "file_extension": ".py",
   "mimetype": "text/x-python",
   "name": "python",
   "nbconvert_exporter": "python",
   "pygments_lexer": "ipython3",
   "version": "3.10.8"
  }
 },
 "nbformat": 4,
 "nbformat_minor": 5
}
