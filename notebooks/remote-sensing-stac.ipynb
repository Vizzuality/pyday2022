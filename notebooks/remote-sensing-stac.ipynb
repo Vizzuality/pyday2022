{
 "cells": [
  {
   "cell_type": "code",
   "execution_count": 2,
   "id": "c449c282-b0f5-4ef1-9fba-ad315dd60f05",
   "metadata": {},
   "outputs": [],
   "source": [
    "import branca\n",
    "import dask.distributed\n",
    "import folium\n",
    "import folium.plugins\n",
    "import geopandas as gpd\n",
    "import numpy as np\n",
    "import rasterio as rio\n",
    "import rasterio.features\n",
    "import shapely.geometry\n",
    "import stackstac\n",
    "import xrspatial.multispectral as ms\n",
    "from branca.element import Element, Figure\n",
    "from odc.stac import configure_rio, stac_load\n",
    "from pystac_client import Client\n",
    "\n",
    "from utils import convert_bounds, image_on_map"
   ]
  },
  {
   "cell_type": "code",
   "execution_count": null,
   "id": "491adb13-74c7-4be3-916f-268eb971b695",
   "metadata": {},
   "outputs": [],
   "source": [
    "# start the dask cluster\n",
    "client = dask.distributed.Client()\n",
    "configure_rio(cloud_defaults=True, aws={\"aws_unsigned\": True}, client=client)\n",
    "client"
   ]
  },
  {
   "cell_type": "code",
   "execution_count": null,
   "id": "b9fb03a9-8840-4759-83f1-46023eea1aae",
   "metadata": {},
   "outputs": [],
   "source": [
    "# paste here the bbox json\n",
    "aoi = {\n",
    "    \"type\": \"Polygon\",\n",
    "    \"coordinates\": [\n",
    "        [\n",
    "            [2.866745, 39.104489],\n",
    "            [2.866745, 39.229594],\n",
    "            [3.0336, 39.229594],\n",
    "            [3.0336, 39.104489],\n",
    "            [2.866745, 39.104489],\n",
    "        ]\n",
    "    ],\n",
    "}\n",
    "bbox = rasterio.features.bounds(aoi)"
   ]
  },
  {
   "cell_type": "code",
   "execution_count": null,
   "id": "8ba73f9d-5436-4539-8dda-24eddd1fc4c8",
   "metadata": {},
   "outputs": [],
   "source": [
    "catalog = Client.open(\"https://earth-search.aws.element84.com/v0\")\n",
    "\n",
    "query = catalog.search(\n",
    "    collections=[\"sentinel-s2-l2a-cogs\"],\n",
    "    datetime=\"2022-4-1/2022-11-22\",  # from / to\n",
    "    bbox=bbox,\n",
    "    query={\"eo:cloud_cover\": {\"lt\": 25}},\n",
    ")\n",
    "\n",
    "items = list(query.get_items())\n",
    "print(f\"Found: {len(items)} datasets\")\n",
    "\n",
    "# Convert STAC items into a GeoJSON FeatureCollection\n",
    "stac_json = query.get_all_items_as_dict()"
   ]
  },
  {
   "cell_type": "code",
   "execution_count": null,
   "id": "87e1653e-0ae3-40a1-a1f1-6717a8ce1d87",
   "metadata": {},
   "outputs": [],
   "source": [
    "data = (\n",
    "    stackstac.stack(\n",
    "        items,\n",
    "        assets=[\"B04\", \"B03\", \"B02\"],  # red, green, blue\n",
    "        chunksize=\"auto\",\n",
    "        resolution=10,\n",
    "        bounds_latlon=bbox,\n",
    "        # epsg=3857\n",
    "    )\n",
    "    # .where(lambda x: x > 0, other=np.nan)  # sentinel-2 uses 0 as nodata\n",
    "    .assign_coords(band=lambda x: x.common_name.rename(\"band\"))  # use common names\n",
    ")\n",
    "data"
   ]
  },
  {
   "cell_type": "code",
   "execution_count": null,
   "id": "a304e4ea-b45c-4df7-bc4e-6ec4cd8a9f3b",
   "metadata": {},
   "outputs": [],
   "source": [
    "# use ms.true_color to convert RGB and improve the color\n",
    "selection = data.isel(time=11)\n",
    "image_on_map(ms.true_color(*selection).compute(), bbox)"
   ]
  },
  {
   "cell_type": "code",
   "execution_count": null,
   "id": "a1cb540d-f18e-4a62-96e3-13d4f1957810",
   "metadata": {},
   "outputs": [],
   "source": [
    "%%time\n",
    "median = data.median(dim=\"time\", keep_attrs=True).compute()"
   ]
  },
  {
   "cell_type": "code",
   "execution_count": null,
   "id": "6ec72904-c2e2-424e-b097-0ff8e73cdf2b",
   "metadata": {},
   "outputs": [],
   "source": [
    "image_on_map(ms.true_color(*median), bbox)"
   ]
  },
  {
   "cell_type": "code",
   "execution_count": null,
   "id": "3ab51708-410b-4243-b257-ca19af0d09bb",
   "metadata": {},
   "outputs": [],
   "source": [
    "median_color = ms.true_color(*median)"
   ]
  },
  {
   "cell_type": "code",
   "execution_count": null,
   "id": "6e8ee8c8-7dd7-48e6-b0dd-a0e78768f4bd",
   "metadata": {},
   "outputs": [],
   "source": [
    "median_color.transpose(\"band\", \"y\", \"x\").rio.to_raster(\"images/cabrera_rgba.tif\")"
   ]
  },
  {
   "cell_type": "code",
   "execution_count": null,
   "id": "f090c88a-940a-4797-aeea-b917bb166c1d",
   "metadata": {},
   "outputs": [],
   "source": []
  }
 ],
 "metadata": {
  "kernelspec": {
   "display_name": "Python 3 (ipykernel)",
   "language": "python",
   "name": "python3"
  },
  "language_info": {
   "codemirror_mode": {
    "name": "ipython",
    "version": 3
   },
   "file_extension": ".py",
   "mimetype": "text/x-python",
   "name": "python",
   "nbconvert_exporter": "python",
   "pygments_lexer": "ipython3",
   "version": "3.10.8"
  }
 },
 "nbformat": 4,
 "nbformat_minor": 5
}
